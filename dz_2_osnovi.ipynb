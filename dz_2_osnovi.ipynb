{
 "cells": [
  {
   "cell_type": "markdown",
   "metadata": {},
   "source": [
    "# Задание 1"
   ]
  },
  {
   "cell_type": "code",
   "execution_count": 13,
   "metadata": {
    "scrolled": true
   },
   "outputs": [
    {
     "name": "stdout",
     "output_type": "stream",
     "text": [
      "Решение: Фраза 1 длиннее фразы 2\n"
     ]
    }
   ],
   "source": [
    "phrase_1 = \"Насколько проще было бы писать программы, если\"\n",
    "phrase_2 = \"Насколько проще было бы  программы, если бы\"\n",
    "if phrase_1 == phrase_2: \n",
    "    print (\"Фразы равной длины\")\n",
    "elif phrase_1 > phrase_2: \n",
    "    print (\"Решение: Фраза 1 длиннее фразы 2\")\n",
    "else:\n",
    "     print (\"Решение: Фраза 2 длиннее фразы 1\")"
   ]
  },
  {
   "cell_type": "markdown",
   "metadata": {},
   "source": [
    "# Задание 2"
   ]
  },
  {
   "cell_type": "code",
   "execution_count": 31,
   "metadata": {},
   "outputs": [
    {
     "name": "stdout",
     "output_type": "stream",
     "text": [
      "Результат: Високосный год\n"
     ]
    }
   ],
   "source": [
    "y = 2016\n",
    "if (y%4) == 0:\n",
    "    if y % 100 == 0:\n",
    "        if y % 400 == 0:\n",
    "            x = \"Результат: Високосный год\"\n",
    "        else:\n",
    "            x = \"Результат: Обычный год\"\n",
    "    else:\n",
    "         x = \"Результат: Високосный год\"\n",
    "else:\n",
    "    x = \"Результат: Обычный год\"        \n",
    "\n",
    "print(x)"
   ]
  },
  {
   "cell_type": "markdown",
   "metadata": {},
   "source": [
    "# Задание 3"
   ]
  },
  {
   "cell_type": "code",
   "execution_count": 29,
   "metadata": {},
   "outputs": [
    {
     "name": "stdout",
     "output_type": "stream",
     "text": [
      "Введите месяц:октябрь\n",
      "Введите день:21\n",
      "Ваш знак зодиака: весы\n"
     ]
    }
   ],
   "source": [
    "month = input(\"Введите месяц:\")\n",
    "day = int(input(\"Введите день:\"))\n",
    "\n",
    "if (month == \"март\" and 21 < day < 31) or (month == \"апрель\" and day <= 20):\n",
    "    print (\"Ваш знак зодиака: овен\")\n",
    "    \n",
    "elif (month == \"апрель\" and 20 < day < 31) or (month == \"май\" and day <= 22):\n",
    "    print (\"Ваш знак зодиака: телец\")\n",
    "elif (month == \"май\" and 22 < day < 31) or (month == \"июнь\" and day <= 22):\n",
    "    print (\"Ваш знак зодиака: близнецы\")\n",
    "elif (month == \"июнь\" and 22 < day < 31) or (month == \"июль\" and day <= 23):\n",
    "    print (\"Ваш знак зодиака: рак\")\n",
    "elif (month == \"июль\" and 23 < day < 31) or (month == \"август\" and day <= 24):\n",
    "    print (\"Ваш знак зодиака: лев\")\n",
    "elif (month == \"август\" and 24 < day < 31) or (month == \"сентябрь\" and day <= 22):\n",
    "    print (\"Ваш знак зодиака: дева\")\n",
    "elif (month == \"сентябрь\" and 22 < day < 31) or (month == \"октябрь\" and day <= 22):\n",
    "    print (\"Ваш знак зодиака: весы\")\n",
    "elif (month == \"октябрь\" and 22 < day < 31) or (month == \"ноябрь\" and day <= 22):\n",
    "    print (\"Ваш знак зодиака: скорпион\")\n",
    "elif (month == \"ноябрь\" and 22 < day < 31) or (month == \"декабрь\" and day <= 21):\n",
    "    print (\"Ваш знак зодиака: стрелец\")\n",
    "elif (month == \"декабрь\" and 21 < day < 31) or (month == \"январь\" and day <= 20):\n",
    "    print (\"Ваш знак зодиака: козерог\")\n",
    "elif (month == \"январь\" and 20 < day < 31) or (month == \"февраль\" and day <= 19):\n",
    "    print (\"Ваш знак зодиака: водолей\")\n",
    "elif (month == \"февраль\" and 19 < day < 29) or (month == \"апрель\" and day <= 20):\n",
    "    print (\"Ваш знак зодиака: рыбы\")\n",
    "    \n",
    "else: \n",
    "    print (\"Что-то указано не верно\")\n"
   ]
  },
  {
   "cell_type": "markdown",
   "metadata": {},
   "source": [
    "# Задание 4\n"
   ]
  },
  {
   "cell_type": "markdown",
   "metadata": {},
   "source": [
    "Вам нужно написать программу для подбора упаковок по размерам товара. Размеры хранятся в переменных (в сантиметрах):\n",
    "\n",
    "width = 10\n",
    "length = 205\n",
    "height = 5\n",
    "Используйте следующие правила:\n",
    "\n",
    "если каждое из трех измерений менее 15 сантиметров, то выведите на экран “Коробка №1”;\n",
    "если хотя бы одно из измерений больше 15 сантиметров, но менее 50 сантиметров, то выводите “Коробка №2”;\n",
    "если длина товара больше 2 метров, то выводите “Упаковка для лыж”;\n",
    "во всех остальных случаях выводите “Стандартная коробка №3”."
   ]
  },
  {
   "cell_type": "code",
   "execution_count": 43,
   "metadata": {},
   "outputs": [
    {
     "name": "stdout",
     "output_type": "stream",
     "text": [
      "Коробка для лыж\n"
     ]
    }
   ],
   "source": [
    "width = 10\n",
    "length = 205\n",
    "height = 10\n",
    "\n",
    "if width < 15 and length < 15 and height< 15: \n",
    "    x = \"Коробка №1\"\n",
    "elif length > 200:\n",
    "    x = \"Коробка для лыж\" \n",
    "elif 15 < width < 50 or 15 < length < 50 or 15 < height < 50:\n",
    "    x = \"Коробка №2\"\n",
    "\n",
    "else: \n",
    "    x = \"Стандартная коробка №3\"\n",
    "    \n",
    "print(x)\n",
    "\n"
   ]
  },
  {
   "cell_type": "markdown",
   "metadata": {},
   "source": [
    "# Задание 5\n"
   ]
  },
  {
   "cell_type": "code",
   "execution_count": 73,
   "metadata": {},
   "outputs": [
    {
     "name": "stdout",
     "output_type": "stream",
     "text": [
      "5\n",
      "5\n",
      "5\n",
      "5\n",
      "5\n",
      "5\n",
      "счастливый билет\n"
     ]
    }
   ],
   "source": [
    "b = 555555\n",
    "x = b//100000\n",
    "print(x)\n",
    "y = (b - x*10000)//100000\n",
    "print(y)\n",
    "z = (b - (x*100000) - (y*10000))//1000\n",
    "print(z)\n",
    "c = (b - (x*100000) - (y*10000) - (z*1000))//100\n",
    "print(c)\n",
    "v = (b - (x*100000) - (y*10000) - (z*1000) - (c*100))//10\n",
    "print(v)\n",
    "q = (b - (x*100000) - (y*10000) - (z*1000) - (c*100) - (v*10))\n",
    "print(q)\n",
    "if (x+y+c) == (c+v+q):\n",
    "    print(\"счастливый билет\")\n",
    "else: \n",
    "    print(\"обычный билет\")"
   ]
  },
  {
   "cell_type": "markdown",
   "metadata": {},
   "source": [
    "# Задание 6"
   ]
  },
  {
   "cell_type": "code",
   "execution_count": 9,
   "metadata": {},
   "outputs": [
    {
     "name": "stdout",
     "output_type": "stream",
     "text": [
      "Введите фигуру:ва\n",
      "Такой фигуры нет\n"
     ]
    }
   ],
   "source": [
    "fig = input(\"Введите фигуру:\")\n",
    "\n",
    "if fig == \"круг\":\n",
    "    r = int(input(\"введите радиус\"))\n",
    "    s = ((r**2)*3.14)\n",
    "    print(\"площадь круга \",s)\n",
    "elif fig == \"треугольник\":\n",
    "    a = int(input(\"введите сторону А\"))\n",
    "    b = int(input(\"введите сторону B\"))\n",
    "    c = int(input(\"введите сторону c\"))\n",
    "    p = (a+b+c)/2\n",
    "    s = (p*(p-a)*(p-b)*(p-c))**0.5\n",
    "    print(\"площадь треугольника \",s)\n",
    "\n",
    "elif fig == \"прямоугольник\":\n",
    "    a = int(input(\"введите сторону А\"))\n",
    "    b = int(input(\"введите сторону B\"))\n",
    "    s = a*b\n",
    "    print(\"площадь прямоугольника \",s)\n",
    "else:\n",
    "    print(\"Такой фигуры нет\")"
   ]
  },
  {
   "cell_type": "code",
   "execution_count": null,
   "metadata": {},
   "outputs": [],
   "source": []
  }
 ],
 "metadata": {
  "kernelspec": {
   "display_name": "Python 3",
   "language": "python",
   "name": "python3"
  },
  "language_info": {
   "codemirror_mode": {
    "name": "ipython",
    "version": 3
   },
   "file_extension": ".py",
   "mimetype": "text/x-python",
   "name": "python",
   "nbconvert_exporter": "python",
   "pygments_lexer": "ipython3",
   "version": "3.8.3"
  }
 },
 "nbformat": 4,
 "nbformat_minor": 4
}
