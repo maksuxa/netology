{
 "cells": [
  {
   "cell_type": "markdown",
   "metadata": {},
   "source": [
    "# Задание 1\n"
   ]
  },
  {
   "cell_type": "code",
   "execution_count": 5,
   "metadata": {},
   "outputs": [
    {
     "name": "stdout",
     "output_type": "stream",
     "text": [
      "lq\n"
     ]
    }
   ],
   "source": [
    "word = str(\"hellqweo\")\n",
    "x = len(word) \n",
    "\n",
    "if x%2 == 0:\n",
    "    q = int(x/2)\n",
    "    w = int(q - 1)\n",
    "    c = word[w] + word[q]\n",
    "    print(c)\n",
    "else:\n",
    "    q = int(x//2)\n",
    "    c = word[q]\n",
    "    print(c)\n",
    "\n"
   ]
  },
  {
   "cell_type": "markdown",
   "metadata": {},
   "source": [
    "# Задание 2"
   ]
  },
  {
   "cell_type": "code",
   "execution_count": 4,
   "metadata": {},
   "outputs": [
    {
     "name": "stdout",
     "output_type": "stream",
     "text": [
      "Введите число:5\n",
      "Введите число:5\n",
      "Введите число:5\n",
      "Введите число:0\n",
      "15\n"
     ]
    }
   ],
   "source": [
    "y = 0\n",
    "x = int(input(\"Введите число:\"))\n",
    "if x == 0:\n",
    "    print(x)\n",
    "\n",
    "while x != 0:\n",
    "    y = x+y\n",
    "    x = int(input(\"Введите число:\"))\n",
    "print(y)"
   ]
  },
  {
   "cell_type": "markdown",
   "metadata": {},
   "source": [
    "# Задание 3"
   ]
  },
  {
   "cell_type": "code",
   "execution_count": 41,
   "metadata": {},
   "outputs": [
    {
     "name": "stdout",
     "output_type": "stream",
     "text": [
      "Результат: Внимание, кто-то может остаться без пары!\n"
     ]
    }
   ],
   "source": [
    "boys = [\"Pen\",\"Ben\",\"Hren\",]\n",
    "girls = [\"Totti\", \"Motti\", \"Kottee\",\"Lete\"]\n",
    "if len(boys) != len(girls):\n",
    "    print(\"Результат: Внимание, кто-то может остаться без пары!\")\n",
    "    \n",
    "else:\n",
    "    b = sorted(boys)\n",
    "    g = sorted(girls)\n",
    "    print(b)\n",
    "    print(\"Идеальные пары:\")\n",
    "    index = 0\n",
    "    for x in b:\n",
    "        print(x, \"и\",g[index])\n",
    "        index = index + 1\n",
    "    \n",
    "\n",
    "    \n"
   ]
  },
  {
   "cell_type": "markdown",
   "metadata": {},
   "source": [
    "# Задание 4"
   ]
  },
  {
   "cell_type": "code",
   "execution_count": 66,
   "metadata": {},
   "outputs": [
    {
     "name": "stdout",
     "output_type": "stream",
     "text": [
      "Средняя температура в странах:\n",
      "Thailand - 23.9 C\n",
      "Germany - 13.8 C\n",
      "Russia - 3.7 C\n",
      "Poland - 12.0 C\n"
     ]
    }
   ],
   "source": [
    "countries_temperature = [\n",
    "[\"Thailand\", [75.2, 77, 78.8, 73.4, 68, 75.2, 77]],\n",
    "[\"Germany\", [57.2, 55.4, 59, 59, 53.6]],\n",
    "[\"Russia\", [35.6, 37.4, 39.2, 41, 42.8, 39.2, 35.6]],\n",
    "[\"Poland\", [50, 50, 53.6, 57.2, 55.4, 55.4]]\n",
    "]\n",
    "\n",
    "print(\"Средняя температура в странах:\")\n",
    "index = 0\n",
    "for temperature in countries_temperature:\n",
    "    sr_temperature = (sum(temperature[1])/(len(temperature[1])))\n",
    "    n = 5*(sr_temperature-32)/9\n",
    "    print(countries_temperature[index][0],\"-\",round(n, 1) ,\"C\") \n",
    "    index = index + 1\n"
   ]
  },
  {
   "cell_type": "markdown",
   "metadata": {},
   "source": [
    "# Задание 5"
   ]
  },
  {
   "cell_type": "code",
   "execution_count": 40,
   "metadata": {},
   "outputs": [
    {
     "name": "stdout",
     "output_type": "stream",
     "text": [
      "Среднее количество просмотров на уникального пользователя: 23.25\n"
     ]
    }
   ],
   "source": [
    "stream = [\n",
    "\"2018-01-01,user1,3\",\n",
    "\"2018-01-07,user1,4\",\n",
    "\"2018-03-29,user1,1\",\n",
    "\"2018-04-04,user1,13\",\n",
    "\"2018-01-05,user2,7\",\n",
    "\"2018-06-14,user3,4\",\n",
    "\"2018-07-02,user3,10\",\n",
    "\"2018-03-21,user4,19\",\n",
    "\"2018-03-22,user4,4\",\n",
    "\"2018-04-22,user4,8\",\n",
    "\"2018-05-03,user4,9\",\n",
    "\"2018-05-11,user4,11\",\n",
    "]\n",
    "\n",
    "klient = []\n",
    "prosmotr = []\n",
    "for y in stream:\n",
    "    x = y.split(\",\")\n",
    "    klient.append(x[1])\n",
    "    prosmotr.append(int(x[2]))\n",
    "    \n",
    "sum_prosmotr = sum(prosmotr)\n",
    "\n",
    "uniq_klient = []\n",
    "for uniq in klient:\n",
    "    if uniq not in uniq_klient:\n",
    "        uniq_klient.append(uniq)\n",
    "    \n",
    "sum_klient = len(uniq_klient)\n",
    "\n",
    "print(\"Среднее количество просмотров на уникального пользователя:\",sum_prosmotr/sum_klient)"
   ]
  },
  {
   "cell_type": "markdown",
   "metadata": {},
   "source": [
    "# Задание 6"
   ]
  },
  {
   "cell_type": "code",
   "execution_count": 78,
   "metadata": {},
   "outputs": [
    {
     "name": "stdout",
     "output_type": "stream",
     "text": [
      "Введите числа через пробел:12 3 4 12 1 \n",
      "Результат:\n",
      "1 4 3 12 \n"
     ]
    }
   ],
   "source": [
    "x = str(input(\"Введите числа через пробел:\"))\n",
    "\n",
    "lst = x.split()\n",
    "\n",
    "uniq_list = []\n",
    "for uniq in lst:\n",
    "    if uniq not in uniq_list:\n",
    "        uniq_list.append(uniq)\n",
    "e = \"\"\n",
    "print(\"Результат:\")\n",
    "for y in uniq_list: \n",
    "    e = y + \" \" + e \n",
    "    \n",
    "print(e)"
   ]
  }
 ],
 "metadata": {
  "kernelspec": {
   "display_name": "Python 3",
   "language": "python",
   "name": "python3"
  },
  "language_info": {
   "codemirror_mode": {
    "name": "ipython",
    "version": 3
   },
   "file_extension": ".py",
   "mimetype": "text/x-python",
   "name": "python",
   "nbconvert_exporter": "python",
   "pygments_lexer": "ipython3",
   "version": "3.8.3"
  }
 },
 "nbformat": 4,
 "nbformat_minor": 4
}
