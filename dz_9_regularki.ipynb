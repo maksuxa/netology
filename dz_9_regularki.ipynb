{
 "cells": [
  {
   "cell_type": "markdown",
   "metadata": {},
   "source": [
    "# Задание 1\n",
    "Напишите функцию, которая принимает на вход строку и проверяет является ли она валидным транспортным номером (1 буква, 3 цифры, 2 буквы, 2-3 цифры). Обратите внимание, что не все буквы кириллического алфавита используются в транспортных номерах.\n",
    "\n",
    "Если номер валиден, то функция должна возвращать отдельно номер и регион.\n",
    "\n",
    "Примеры работы программы:\n",
    "\n",
    "car_id = 'A222BC96'\n",
    "Результат: Номер A222BС валиден. Регион: 96\n",
    "\n",
    "car_id = 'АБ22ВВ193'\n",
    "Результат: Номер не валиден"
   ]
  },
  {
   "cell_type": "code",
   "execution_count": 1,
   "metadata": {},
   "outputs": [],
   "source": [
    "import re"
   ]
  },
  {
   "cell_type": "code",
   "execution_count": 2,
   "metadata": {},
   "outputs": [
    {
     "name": "stdout",
     "output_type": "stream",
     "text": [
      "Номер А222ВУ96 валиден. Регион: 96\n"
     ]
    }
   ],
   "source": [
    "car_id = 'А222ВУ96' \n",
    "#letters = 'АВЕКМНОРСТУХ'\n",
    "#letters = list(letters)\n",
    "#car_nomer(car_id)\n",
    "\n",
    "def car_nomer(car_id):\n",
    "    lst = re.findall(r'[АВЕКМНОРСТУХ]\\d{3}[АВЕКМНОРСТУХ]{2}',car_id)\n",
    "    if lst == []:\n",
    "        print(f'{car_id} номер не валиден')   \n",
    "    else:\n",
    "        reg = \"\".join(re.findall(r'\\d{2}$', car_id))\n",
    "        print(f'Номер {car_id} валиден. Регион: {reg}')\n",
    "\n",
    "car_nomer('А222ВУ96')"
   ]
  },
  {
   "cell_type": "markdown",
   "metadata": {},
   "source": [
    "# Задание 2\n",
    "Напишите функцию, которая будет удалять все последовательные повторы слов из заданной строки при помощи регулярных выражений.\n",
    "\n",
    "Пример работы программы:\n",
    "\n",
    "some_string = 'Напишите функцию функцию, которая будет будет будет будет удалять все все все все последовательные повторы слов из из из из заданной строки строки при помощи регулярных выражений.'\n",
    "\n",
    "Результат:\n",
    "Напишите функцию, которая будет удалять все последовательные повторы слов из заданной строки при помощи регулярных выражений."
   ]
  },
  {
   "cell_type": "code",
   "execution_count": 26,
   "metadata": {},
   "outputs": [],
   "source": [
    "some_string = 'Напишите функцию функцию, которая будет будет будет будет удалять все все все все последовательные повторы слов из из из из заданной строки строки при помощи регулярных выражений.'"
   ]
  },
  {
   "cell_type": "code",
   "execution_count": 48,
   "metadata": {},
   "outputs": [
    {
     "name": "stdout",
     "output_type": "stream",
     "text": [
      "[('н', 'н')]\n"
     ]
    },
    {
     "data": {
      "text/plain": [
       "'Напишите функцию, которая будет удалять все последовательные повторы слов из заданной строки при помощи регулярных выражений.'"
      ]
     },
     "execution_count": 48,
     "metadata": {},
     "output_type": "execute_result"
    }
   ],
   "source": [
    "\n",
    "print(re.findall(r'(\\w+,?)(\\1)+', some_string))\n",
    "\n",
    "\n",
    "re.sub(r'(\\w+)(\\s\\1)+', r'\\1', some_string)\n",
    "\n",
    "\n"
   ]
  },
  {
   "cell_type": "code",
   "execution_count": null,
   "metadata": {},
   "outputs": [],
   "source": [
    "#s = \"Идет идет медведь медведь, встретилбелку Белку и! упал  упал упал!\"\n",
    "\n",
    "\n",
    "#print( re.sub(r'\\b([^\\W\\d_]+)(\\s+\\1)+\\b', r'\\1', re.sub(r'\\W+', ' ', s).strip()) )"
   ]
  },
  {
   "cell_type": "markdown",
   "metadata": {},
   "source": [
    "# Задание 3\n",
    "Напишите функцию, которая будет возвращать акроним по переданной в нее строке со словами.\n",
    "Примеры работы программы:\n",
    "some_words = 'Информационные технологии'\n",
    "Результат:  ИТ\n",
    "some_words = 'Near Field Communication'\n",
    "Результат:  NFC"
   ]
  },
  {
   "cell_type": "code",
   "execution_count": 49,
   "metadata": {},
   "outputs": [],
   "source": [
    "some_words = 'Информационные технологии'"
   ]
  },
  {
   "cell_type": "code",
   "execution_count": 157,
   "metadata": {},
   "outputs": [
    {
     "data": {
      "text/plain": [
       "'NFC'"
      ]
     },
     "execution_count": 157,
     "metadata": {},
     "output_type": "execute_result"
    }
   ],
   "source": [
    "some_words = 'Near Field Communication'\n",
    "#some_words = 'Информационные технологии'\n",
    "#re.findall(r'(^\\w)(\\w+)\\s(\\w))+', some_words)\n",
    "#re.findall(r'(^\\w)(\\w+)\\s(\\w)(\\w+)', some_words)\n",
    "#re.findall(r'(^\\w{1})(\\w+)\\s', some_words)\n",
    "re.findall(r'(\\w+)', some_words)\n",
    "\n",
    "#re.sub(r'(^\\w)(\\w+)\\s(\\w)(\\w+)\\s(\\w)(\\w+)', r'\\1\\3\\5',some_words)\n",
    "#re.sub(r'(^\\w)(\\w+)\\s(\\w)(\\w+)', r'\\1\\3',some_words) #Для ИТ\n",
    "re.sub(r'(\\w)(\\w+)\\s?', r'\\1', some_words)\n",
    "\n"
   ]
  },
  {
   "cell_type": "markdown",
   "metadata": {},
   "source": [
    "# Задание 4\n",
    "Напишите функцию, которая будет принимать на вход список email-адресов и выводить их распределение по доменным зонам.\n",
    "Пример работы программы:\n",
    "emails = ['test@gmail.com', 'xyz@test.in', 'test@ya.ru', 'xyz@mail.ru', 'xyz@ya.ru', 'xyz@gmail.com']\n",
    "Результат:\n",
    "gmail.com: 2\n",
    "test.in: 1 \n",
    "ya.ru: 2 \n",
    "mail.ru: 1"
   ]
  },
  {
   "cell_type": "code",
   "execution_count": 162,
   "metadata": {},
   "outputs": [],
   "source": [
    "emails = ['test@gmail.com', 'xyz@test.in', 'test@ya.ru', 'xyz@mail.ru', 'xyz@ya.ru', 'xyz@gmail.com']"
   ]
  },
  {
   "cell_type": "code",
   "execution_count": 192,
   "metadata": {},
   "outputs": [
    {
     "name": "stdout",
     "output_type": "stream",
     "text": [
      "test.in: 1\n",
      "ya.ru: 2\n",
      "gmail.com: 2\n",
      "mail.ru: 1\n"
     ]
    }
   ],
   "source": [
    "list = []\n",
    "for mail in emails:\n",
    "   \n",
    "    list.append(re.sub(r'\\w+\\@(\\w+.\\w+)', r'\\1', mail))\n",
    "\n",
    "for l in set(list):\n",
    "    print(f'{l}: {list.count(l)}')\n",
    "#print(list)\n"
   ]
  },
  {
   "cell_type": "markdown",
   "metadata": {},
   "source": [
    "# Задание 5 (необязательное)\n",
    "Напишите функцию, которая будет подсчитывать сколько слов начинается на гласные, а сколько на согласные буквы в тексте (текст может быть написан как с использованием букв кириллицы, так и латиницы).\n",
    "Пример работы программы:\n",
    "some_text = 'Эталонной реализацией Python является интерпретатор CPython, поддерживающий большинство активно используемых платформ. Он распространяется под свободной лицензией Python Software Foundation License, позволяющей использовать его без ограничений в любых приложениях, включая проприетарные.'\n",
    "Результат:\n",
    "Слов на гласные буквы: 9\n",
    "Слов на согласные буквы: 21"
   ]
  },
  {
   "cell_type": "code",
   "execution_count": 224,
   "metadata": {},
   "outputs": [],
   "source": [
    "some_text = 'Эталонной реализацией Python является интерпретатор uCPython, поддерживающий большинство активно используемых платформ. Он распространяется под свободной лицензией Python Software Foundation License, позволяющей использовать его без ограничений в любых приложениях, включая проприетарные.' "
   ]
  },
  {
   "cell_type": "code",
   "execution_count": 239,
   "metadata": {},
   "outputs": [
    {
     "name": "stdout",
     "output_type": "stream",
     "text": [
      " Результат: Слов на гласные буквы: 10 Слов на согласные буквы: 20\n"
     ]
    }
   ],
   "source": [
    "x = len(re.findall(r'(\\b[аеёиоуыэюяAEIOUY]\\w+\\b)', some_text, flags=re.IGNORECASE))\n",
    "y = len(re.split(r'\\s', some_text))\n",
    "\n",
    "print(f' Результат: Слов на гласные буквы: {x} Слов на согласные буквы: {y - x}')\n"
   ]
  },
  {
   "cell_type": "markdown",
   "metadata": {},
   "source": [
    "# Задание 6\n",
    "Напишите функцию, которая будет проверять номер сотового телефона на валидность (только для российского формата), если он валиден, то переводить его в формат:\n",
    "+7-xxx-xxx-xx-xx\n",
    "Постарайтесь предусмотреть как можно больше адекватных форматов изначального ввода номера. Примеры работы программы:\n",
    "phone = '+7 955 555-55-55'\n",
    "Результат:  +7-950-555-55-55\n",
    "phone = '8(955)555-55-55'\n",
    "Результат:  +7-950-555-55-55\n",
    "phone = '+7 955 555 55 55'\n",
    "Результат:  +7-950-555-55-55\n",
    "phone = '7(955) 555-55-55'\n",
    "Результат:  +7-950-555-55-55"
   ]
  },
  {
   "cell_type": "code",
   "execution_count": 317,
   "metadata": {},
   "outputs": [],
   "source": [
    "phone_numbers = '8-943-342-23-32'"
   ]
  },
  {
   "cell_type": "code",
   "execution_count": 331,
   "metadata": {},
   "outputs": [
    {
     "name": "stdout",
     "output_type": "stream",
     "text": [
      "89066390161\n",
      "+7-906-639-01-61\n"
     ]
    }
   ],
   "source": [
    "phone_numbers = input()\n",
    "x = re.findall('[+]?\\d?[-\\s()]?\\d{3}[-\\s()]?\\d{3}[-\\s()]?\\d{2}[-\\s()]?\\d{2}', phone_numbers)\n",
    "if x != []:\n",
    "    print(re.sub('[+]?\\d?[-\\s()]?(\\d{3})[-\\s()]?(\\d{3})[-\\s()]?(\\d{2})[-\\s()]?(\\d{2})', r'+7-\\1-\\2-\\3-\\4', phone_numbers))\n",
    "else: \n",
    "    print(\"номер не валиден\")"
   ]
  },
  {
   "cell_type": "code",
   "execution_count": null,
   "metadata": {},
   "outputs": [],
   "source": []
  }
 ],
 "metadata": {
  "kernelspec": {
   "display_name": "Python 3",
   "language": "python",
   "name": "python3"
  },
  "language_info": {
   "codemirror_mode": {
    "name": "ipython",
    "version": 3
   },
   "file_extension": ".py",
   "mimetype": "text/x-python",
   "name": "python",
   "nbconvert_exporter": "python",
   "pygments_lexer": "ipython3",
   "version": "3.8.3"
  }
 },
 "nbformat": 4,
 "nbformat_minor": 4
}
