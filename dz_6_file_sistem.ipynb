{
 "cells": [
  {
   "cell_type": "markdown",
   "metadata": {},
   "source": [
    "# Задание 1"
   ]
  },
  {
   "cell_type": "markdown",
   "metadata": {},
   "source": [
    "Переведите содержимое файла purchase_log.txt в словарь purchases вида:\n",
    "{‘1840e0b9d4’: ‘Продукты’, …}"
   ]
  },
  {
   "cell_type": "code",
   "execution_count": 2,
   "metadata": {},
   "outputs": [
    {
     "name": "stdout",
     "output_type": "stream",
     "text": [
      "1840e0b9d4 Продукты\n",
      "4e4f90fcfb Электроника\n",
      "afea8d72fc Электроника\n",
      "373a6055fe Бытовая техника\n",
      "9b2ab046f3 Электроника\n",
      "9f39d307c3 Электроника\n",
      "44edeffc91 Продукты\n",
      "704474fa2d Продукты\n",
      "1de31be403 Бытовая техника\n",
      "b71f36a5e4 Продукты\n",
      "79843a685a Продукты\n",
      "ff68cee0d6 Бытовая техника\n"
     ]
    }
   ],
   "source": [
    "f = open ('/Users/maksim/Desktop/Downloads/purchase_log.txt')\n",
    "\n",
    "import json\n",
    "spisok = []\n",
    "for line in f:\n",
    "    x = json.loads(line.strip())\n",
    "    spisok.append(x)\n",
    "\n",
    "purchases = {}\n",
    "for s in spisok[1:]:\n",
    "    purchases[s['user_id']] = s['category']\n",
    "\n",
    "    \n",
    "for i, line in enumerate(purchases):\n",
    "    print(line, purchases[line])\n",
    "    if i > 10:\n",
    "        break\n",
    "\n",
    "f.close()"
   ]
  },
  {
   "cell_type": "markdown",
   "metadata": {},
   "source": [
    "# Задание 2"
   ]
  },
  {
   "cell_type": "markdown",
   "metadata": {},
   "source": [
    "Для каждого user_id в файле visit_log.csv определите третий столбец с категорией покупки (если покупка была, сам файл visit_log.csv изменять не надо). Запишите в файл funnel.csv визиты из файла visit_log.csv, в которых были покупки с указанием категории.\n",
    "Учтите условия на данные:\n",
    "содержимое purchase_log.txt помещается в оперативную память компьютера\n",
    "содержимое visit_log.csv - нет; используйте только построчную обработку этого файла"
   ]
  },
  {
   "cell_type": "code",
   "execution_count": 13,
   "metadata": {},
   "outputs": [],
   "source": [
    "with open('/Users/maksim/Desktop/Downloads/visit_log.csv', 'r') as f:\n",
    "    with open('/Users/maksim/Desktop/Downloads/funnel.csv', 'w') as f2write:\n",
    "        for line in f:\n",
    "            spisok = line.strip().split(',')\n",
    "            ind = 1 \n",
    "            if spisok[0] in purchases:\n",
    "                \n",
    "                spisok.append(purchases[spisok[0]])\n",
    "                stroka = str(spisok).strip('[]') + ' \\n '\n",
    "                f2write.write(stroka)\n",
    "                #print(spisok)\n",
    "                \n",
    "\n",
    "            \n",
    "\n",
    "\n",
    "\n",
    "\n",
    "#f = open('/Users/maksim/Desktop/Downloads/funnel.csv')\n",
    "#f.readline()\n",
    "\n",
    "#new_f = open('/Users/maksim/Desktop/Downloads/funnel.csv', 'w')\n",
    "#new_f.write()\n",
    "\n",
    "\n",
    "\n"
   ]
  },
  {
   "cell_type": "code",
   "execution_count": 14,
   "metadata": {},
   "outputs": [
    {
     "name": "stdout",
     "output_type": "stream",
     "text": [
      "0 '1840e0b9d4', 'other', 'Продукты' \n",
      "\n",
      "1  '4e4f90fcfb', 'context', 'Электроника' \n",
      "\n",
      "2  'afea8d72fc', 'other', 'Электроника' \n",
      "\n",
      "3  '2824221f38', 'email', 'Продукты' \n",
      "\n",
      "4  '373a6055fe', 'other', 'Бытовая техника' \n",
      "\n",
      "5  '9b2ab046f3', 'other', 'Электроника' \n",
      "\n",
      "6  '9f39d307c3', 'context', 'Электроника' \n",
      "\n",
      "7  '44edeffc91', 'context', 'Продукты' \n",
      "\n",
      "8  '704474fa2d', 'other', 'Продукты' \n",
      "\n",
      "9  '1de31be403', 'other', 'Бытовая техника' \n",
      "\n",
      "10  '5da0dedf13', 'context', 'Досуг' \n",
      "\n",
      "11  'b71f36a5e4', 'other', 'Продукты' \n",
      "\n",
      "12  '79843a685a', 'context', 'Продукты' \n",
      "\n",
      "13  'ff68cee0d6', 'context', 'Бытовая техника' \n",
      "\n",
      "14  'e8447c40e2', 'email', 'Досуг' \n",
      "\n",
      "15  'b9ef8fdf47', 'other', 'Продукты' \n",
      "\n",
      "16  '98d290be27', 'other', 'Электроника' \n",
      "\n",
      "17  '3fff459bda', 'other', 'Электроника' \n",
      "\n",
      "18  'fa0079a5a8', 'other', 'Досуг' \n",
      "\n",
      "19  'fdd6b2fc76', 'context', 'Бытовая техника' \n",
      "\n",
      "20  '54ecd881a2', 'other', 'Бытовая техника' \n",
      "\n",
      "21  '22d2f03a17', 'context', 'Досуг' \n",
      "\n"
     ]
    }
   ],
   "source": [
    "f = open('/Users/maksim/Desktop/Downloads/funnel.csv')\n",
    "\n",
    "for i, line in enumerate(f):\n",
    "    print(i, line)\n",
    "    if i > 20:\n",
    "        break"
   ]
  },
  {
   "cell_type": "code",
   "execution_count": null,
   "metadata": {},
   "outputs": [],
   "source": []
  }
 ],
 "metadata": {
  "kernelspec": {
   "display_name": "Python 3",
   "language": "python",
   "name": "python3"
  },
  "language_info": {
   "codemirror_mode": {
    "name": "ipython",
    "version": 3
   },
   "file_extension": ".py",
   "mimetype": "text/x-python",
   "name": "python",
   "nbconvert_exporter": "python",
   "pygments_lexer": "ipython3",
   "version": "3.8.3"
  }
 },
 "nbformat": 4,
 "nbformat_minor": 4
}
