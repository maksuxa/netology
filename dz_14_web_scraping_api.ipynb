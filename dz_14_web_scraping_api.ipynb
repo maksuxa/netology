{
 "cells": [
  {
   "cell_type": "markdown",
   "metadata": {},
   "source": [
    "# Задание 1.\n",
    "Обязательная часть\n",
    "\n",
    "Будем парсить страницу со свежеми новостям на habr.com/ru/all/.\n",
    "Вам необходимо собирать только те статьи, в которых встречается хотя бы одно требуемое ключевое слово. Эти слова определяем в начале кода в переменной, например:\n",
    "KEYWORDS = ['python', 'парсинг']\n",
    "Поиск вести по всей доступной preview-информации (это информация, доступная непосредственно с текущей страницы).\n",
    "В итоге должен формироваться датафрейм вида: <дата> - <заголовок> - <ссылка>\n",
    "\n",
    "Дополнительная часть (необязательная)\n",
    "\n",
    "Улучшить скрипт так, чтобы он анализировал не только preview-информацию статьи, но и весь текст статьи целиком.\n",
    "Для этого потребуется получать страницы статей и искать по тексту внутри этой страницы.\n",
    "Итоговый датафрейм формировать со столбцами: <дата> - <заголовок> - <ссылка> - <текст_статьи>"
   ]
  },
  {
   "cell_type": "code",
   "execution_count": 1,
   "metadata": {},
   "outputs": [],
   "source": [
    "import requests\n",
    "import time\n",
    "import pandas as pd\n",
    "from bs4 import BeautifulSoup\n",
    "KEYWORDS = ['python', 'парсинг','SSD','Марс'] "
   ]
  },
  {
   "cell_type": "code",
   "execution_count": 2,
   "metadata": {},
   "outputs": [],
   "source": [
    "res = requests.get('https://habr.com/ru/all/')\n",
    "soup_ = BeautifulSoup(res.text, 'lxml')\n"
   ]
  },
  {
   "cell_type": "code",
   "execution_count": 39,
   "metadata": {},
   "outputs": [],
   "source": [
    "#собираю список ссылок со страницы\n",
    "news = soup_.find_all('a', class_ = \"post__title_link\")\n",
    "\n",
    "href_list = []\n",
    "for new in news:\n",
    "    href_ = new.get('href')\n",
    "    href_list.append(href_)\n",
    "    \n",
    "#href_list\n"
   ]
  },
  {
   "cell_type": "code",
   "execution_count": 40,
   "metadata": {},
   "outputs": [],
   "source": [
    "# Функция проверки текста на наличие ключей\n",
    "def check_paper (KEYWORDS,text):\n",
    "    for key in KEYWORDS:\n",
    "        if key in str(text):        \n",
    "            return True\n",
    "      \n",
    "#check_paper (KEYWORDS,text) "
   ]
  },
  {
   "cell_type": "code",
   "execution_count": 48,
   "metadata": {},
   "outputs": [
    {
     "data": {
      "text/html": [
       "<div>\n",
       "<style scoped>\n",
       "    .dataframe tbody tr th:only-of-type {\n",
       "        vertical-align: middle;\n",
       "    }\n",
       "\n",
       "    .dataframe tbody tr th {\n",
       "        vertical-align: top;\n",
       "    }\n",
       "\n",
       "    .dataframe thead th {\n",
       "        text-align: right;\n",
       "    }\n",
       "</style>\n",
       "<table border=\"1\" class=\"dataframe\">\n",
       "  <thead>\n",
       "    <tr style=\"text-align: right;\">\n",
       "      <th></th>\n",
       "      <th>Заголовок</th>\n",
       "      <th>Дата</th>\n",
       "      <th>Ссылка</th>\n",
       "      <th>Текст статьи</th>\n",
       "    </tr>\n",
       "  </thead>\n",
       "  <tbody>\n",
       "    <tr>\n",
       "      <th>0</th>\n",
       "      <td>Учёные раскрыли универсальную геометрию геолог...</td>\n",
       "      <td>2020-12-18T10:35Z</td>\n",
       "      <td>https://habr.com/ru/post/533752/</td>\n",
       "      <td>\\nУпражнения в чистой математике привели к соз...</td>\n",
       "    </tr>\n",
       "    <tr>\n",
       "      <th>0</th>\n",
       "      <td>Энергия и энтропия / Хабр</td>\n",
       "      <td>2020-12-18T10:18Z</td>\n",
       "      <td>https://habr.com/ru/post/533740/</td>\n",
       "      <td>\\nЭта статья является конспектом материала пос...</td>\n",
       "    </tr>\n",
       "    <tr>\n",
       "      <th>0</th>\n",
       "      <td>Марс — наш / Блог компании VDSina.ru хостинг с...</td>\n",
       "      <td>2020-12-18T09:45Z</td>\n",
       "      <td>https://habr.com/ru/company/vdsina/blog/532430/</td>\n",
       "      <td>\\n\\n\\r\\nМарс — потенциально пригодная для жизн...</td>\n",
       "    </tr>\n",
       "  </tbody>\n",
       "</table>\n",
       "</div>"
      ],
      "text/plain": [
       "                                           Заголовок               Дата  \\\n",
       "0  Учёные раскрыли универсальную геометрию геолог...  2020-12-18T10:35Z   \n",
       "0                          Энергия и энтропия / Хабр  2020-12-18T10:18Z   \n",
       "0  Марс — наш / Блог компании VDSina.ru хостинг с...  2020-12-18T09:45Z   \n",
       "\n",
       "                                            Ссылка  \\\n",
       "0                 https://habr.com/ru/post/533752/   \n",
       "0                 https://habr.com/ru/post/533740/   \n",
       "0  https://habr.com/ru/company/vdsina/blog/532430/   \n",
       "\n",
       "                                        Текст статьи  \n",
       "0  \\nУпражнения в чистой математике привели к соз...  \n",
       "0  \\nЭта статья является конспектом материала пос...  \n",
       "0  \\n\\n\\r\\nМарс — потенциально пригодная для жизн...  "
      ]
     },
     "execution_count": 48,
     "metadata": {},
     "output_type": "execute_result"
    }
   ],
   "source": [
    "#Создаю и наполняю датафрейм \n",
    "frame = pd.DataFrame(columns=['Заголовок', 'Дата', 'Ссылка', 'Текст статьи'])\n",
    "\n",
    "for link in href_list:\n",
    "    soup_ = BeautifulSoup(requests.get(link).text, 'lxml')\n",
    "    text = soup_.find('div', class_ = 'post__body post__body_full').text\n",
    "    check = check_paper (KEYWORDS,text) \n",
    "    if check == True:\n",
    "        heder = soup_.title.text\n",
    "        date = soup_.find('span', class_ = 'post__time').get('data-time_published')\n",
    "        df2 = pd.DataFrame({'Заголовок' : [heder], 'Дата' : [date], 'Ссылка' : [link], 'Текст статьи' : [text]})\n",
    "        frame = pd.concat([frame, df2])\n",
    "   \n",
    "    time.sleep(0.3)\n",
    "\n",
    "frame  "
   ]
  },
  {
   "cell_type": "markdown",
   "metadata": {},
   "source": [
    "# Задание 2.\n",
    "Обязательная часть\n",
    "\n",
    "Написать скрипт, который будет проверять список e-mail адресов на утечку при помощи сервиса Avast Hack Ckeck. Список email-ов задаем переменной в начале кода:\n",
    "EMAIL = [xxx@x.ru, yyy@y.com]\n",
    "В итоге должен формироваться датафрейм со столбцами: <почта> - <дата утечки> - <источник утечки> - <описание утечки>\n",
    "Подсказка: сервис работает при помощи \"скрытого\" API. Внимательно изучите post-запросы."
   ]
  },
  {
   "cell_type": "code",
   "execution_count": 49,
   "metadata": {},
   "outputs": [],
   "source": [
    "EMAIL = ['xx@x.ru', 'yyy@y.com']"
   ]
  },
  {
   "cell_type": "code",
   "execution_count": 5,
   "metadata": {},
   "outputs": [
    {
     "data": {
      "text/plain": [
       "<Response [405]>"
      ]
     },
     "execution_count": 5,
     "metadata": {},
     "output_type": "execute_result"
    }
   ],
   "source": [
    "#Тут так и не понял, где искать post запрос.\n",
    "\n",
    "URL = 'https://www.avast.com/hackcheck'\n",
    "data = {}\n",
    "req = requests.post(URL, data)\n",
    "req\n"
   ]
  },
  {
   "cell_type": "code",
   "execution_count": null,
   "metadata": {},
   "outputs": [],
   "source": [
    "\n",
    "               \n",
    "        "
   ]
  },
  {
   "cell_type": "markdown",
   "metadata": {},
   "source": [
    "Дополнительная часть (необязательная)\n",
    "\n",
    "Написать скрипт, который будет получать 50 последних постов указанной группы во Вконтакте.\n",
    "Документация к API VK: https://vk.com/dev/methods , вам поможет метод wall.get\n",
    "GROUP = 'netology'  \n",
    "TOKEN = УДАЛЯЙТЕ В ВЕРСИИ ДЛЯ ПРОВЕРКИ, НА GITHUB НЕ ВЫКЛАДЫВАТЬ\n",
    "В итоге должен формироваться датафрейм со столбцами: <дата поста> - <текст поста>"
   ]
  },
  {
   "cell_type": "code",
   "execution_count": 21,
   "metadata": {},
   "outputs": [
    {
     "name": "stdout",
     "output_type": "stream",
     "text": [
      "b94f71df2d135dced40605fe20535d066d711c9121c75ec76cae2f97db53608148c99f296029ca98b6b42\n"
     ]
    }
   ],
   "source": [
    "f = open ('/Users/maksim/Netology/material/token.txt')\n",
    "token = f.read()\n",
    "print(token)"
   ]
  },
  {
   "cell_type": "code",
   "execution_count": 24,
   "metadata": {},
   "outputs": [],
   "source": [
    "wall_get = 'https://api.vk.com/method/wall.get?'\n",
    "version = '5.84'\n",
    "GROUP = 'netology' \n",
    "SLEEP = 0.33"
   ]
  },
  {
   "cell_type": "code",
   "execution_count": 25,
   "metadata": {},
   "outputs": [],
   "source": [
    "params =  {\n",
    "    'access_token': token,\n",
    "    'v': version,\n",
    "    'count': 10,\n",
    "    'domain': GROUP\n",
    "}"
   ]
  },
  {
   "cell_type": "code",
   "execution_count": 34,
   "metadata": {},
   "outputs": [],
   "source": [
    "res = requests.get(wall_get, params)\n",
    "#res.json()"
   ]
  },
  {
   "cell_type": "code",
   "execution_count": 61,
   "metadata": {},
   "outputs": [
    {
     "data": {
      "text/html": [
       "<div>\n",
       "<style scoped>\n",
       "    .dataframe tbody tr th:only-of-type {\n",
       "        vertical-align: middle;\n",
       "    }\n",
       "\n",
       "    .dataframe tbody tr th {\n",
       "        vertical-align: top;\n",
       "    }\n",
       "\n",
       "    .dataframe thead th {\n",
       "        text-align: right;\n",
       "    }\n",
       "</style>\n",
       "<table border=\"1\" class=\"dataframe\">\n",
       "  <thead>\n",
       "    <tr style=\"text-align: right;\">\n",
       "      <th></th>\n",
       "      <th>date</th>\n",
       "      <th>text</th>\n",
       "    </tr>\n",
       "  </thead>\n",
       "  <tbody>\n",
       "    <tr>\n",
       "      <th>0</th>\n",
       "      <td>1607940301</td>\n",
       "      <td>Наш предновогодний digital-марафон продолжаетс...</td>\n",
       "    </tr>\n",
       "    <tr>\n",
       "      <th>1</th>\n",
       "      <td>1608450780</td>\n",
       "      <td>Предсказать будущее невозможно, но можно его п...</td>\n",
       "    </tr>\n",
       "    <tr>\n",
       "      <th>2</th>\n",
       "      <td>1608384240</td>\n",
       "      <td>Data Science митап ВТБ, конкурс IT-проектов и ...</td>\n",
       "    </tr>\n",
       "    <tr>\n",
       "      <th>3</th>\n",
       "      <td>1608365400</td>\n",
       "      <td>Написать письмо коллеге, пройти собеседование ...</td>\n",
       "    </tr>\n",
       "    <tr>\n",
       "      <th>4</th>\n",
       "      <td>1608301320</td>\n",
       "      <td>В эфире #пятничнаябеседка. Здесь мы обсуждаем,...</td>\n",
       "    </tr>\n",
       "    <tr>\n",
       "      <th>5</th>\n",
       "      <td>1608276780</td>\n",
       "      <td>🔥 Запустили бесплатный курс «Как стать SEO‑спе...</td>\n",
       "    </tr>\n",
       "    <tr>\n",
       "      <th>6</th>\n",
       "      <td>1608216360</td>\n",
       "      <td>Google Docs — это целый набор средств редактир...</td>\n",
       "    </tr>\n",
       "    <tr>\n",
       "      <th>7</th>\n",
       "      <td>1608191640</td>\n",
       "      <td>Приглашение на работу в Кремниевую долину — зв...</td>\n",
       "    </tr>\n",
       "    <tr>\n",
       "      <th>8</th>\n",
       "      <td>1608124503</td>\n",
       "      <td>У нас сегодня Нето-викторина 🤩\\n\\nМы подготови...</td>\n",
       "    </tr>\n",
       "    <tr>\n",
       "      <th>9</th>\n",
       "      <td>1608103380</td>\n",
       "      <td>🏠 Запустили бесплатный онлайн-курс «Дизайн инт...</td>\n",
       "    </tr>\n",
       "  </tbody>\n",
       "</table>\n",
       "</div>"
      ],
      "text/plain": [
       "         date                                               text\n",
       "0  1607940301  Наш предновогодний digital-марафон продолжаетс...\n",
       "1  1608450780  Предсказать будущее невозможно, но можно его п...\n",
       "2  1608384240  Data Science митап ВТБ, конкурс IT-проектов и ...\n",
       "3  1608365400  Написать письмо коллеге, пройти собеседование ...\n",
       "4  1608301320  В эфире #пятничнаябеседка. Здесь мы обсуждаем,...\n",
       "5  1608276780  🔥 Запустили бесплатный курс «Как стать SEO‑спе...\n",
       "6  1608216360  Google Docs — это целый набор средств редактир...\n",
       "7  1608191640  Приглашение на работу в Кремниевую долину — зв...\n",
       "8  1608124503  У нас сегодня Нето-викторина 🤩\\n\\nМы подготови...\n",
       "9  1608103380  🏠 Запустили бесплатный онлайн-курс «Дизайн инт..."
      ]
     },
     "execution_count": 61,
     "metadata": {},
     "output_type": "execute_result"
    }
   ],
   "source": [
    "from datetime import datetime\n",
    "data = pd.DataFrame(res.json()['response']['items'], columns=['date', 'text'])\n",
    "data\n",
    "#ts = data['date'][1]\n",
    "print(datetime.utcfromtimestamp(ts).strftime('%Y-%m-%d %H:%M'))"
   ]
  },
  {
   "cell_type": "code",
   "execution_count": 65,
   "metadata": {},
   "outputs": [
    {
     "data": {
      "text/html": [
       "<div>\n",
       "<style scoped>\n",
       "    .dataframe tbody tr th:only-of-type {\n",
       "        vertical-align: middle;\n",
       "    }\n",
       "\n",
       "    .dataframe tbody tr th {\n",
       "        vertical-align: top;\n",
       "    }\n",
       "\n",
       "    .dataframe thead th {\n",
       "        text-align: right;\n",
       "    }\n",
       "</style>\n",
       "<table border=\"1\" class=\"dataframe\">\n",
       "  <thead>\n",
       "    <tr style=\"text-align: right;\">\n",
       "      <th></th>\n",
       "      <th>text</th>\n",
       "      <th>date_</th>\n",
       "    </tr>\n",
       "  </thead>\n",
       "  <tbody>\n",
       "    <tr>\n",
       "      <th>0</th>\n",
       "      <td>Наш предновогодний digital-марафон продолжаетс...</td>\n",
       "      <td>2020-12-14 10:05:01</td>\n",
       "    </tr>\n",
       "    <tr>\n",
       "      <th>1</th>\n",
       "      <td>Предсказать будущее невозможно, но можно его п...</td>\n",
       "      <td>2020-12-20 07:53:00</td>\n",
       "    </tr>\n",
       "    <tr>\n",
       "      <th>2</th>\n",
       "      <td>Data Science митап ВТБ, конкурс IT-проектов и ...</td>\n",
       "      <td>2020-12-19 13:24:00</td>\n",
       "    </tr>\n",
       "    <tr>\n",
       "      <th>3</th>\n",
       "      <td>Написать письмо коллеге, пройти собеседование ...</td>\n",
       "      <td>2020-12-19 08:10:00</td>\n",
       "    </tr>\n",
       "    <tr>\n",
       "      <th>4</th>\n",
       "      <td>В эфире #пятничнаябеседка. Здесь мы обсуждаем,...</td>\n",
       "      <td>2020-12-18 14:22:00</td>\n",
       "    </tr>\n",
       "    <tr>\n",
       "      <th>5</th>\n",
       "      <td>🔥 Запустили бесплатный курс «Как стать SEO‑спе...</td>\n",
       "      <td>2020-12-18 07:33:00</td>\n",
       "    </tr>\n",
       "    <tr>\n",
       "      <th>6</th>\n",
       "      <td>Google Docs — это целый набор средств редактир...</td>\n",
       "      <td>2020-12-17 14:46:00</td>\n",
       "    </tr>\n",
       "    <tr>\n",
       "      <th>7</th>\n",
       "      <td>Приглашение на работу в Кремниевую долину — зв...</td>\n",
       "      <td>2020-12-17 07:54:00</td>\n",
       "    </tr>\n",
       "    <tr>\n",
       "      <th>8</th>\n",
       "      <td>У нас сегодня Нето-викторина 🤩\\n\\nМы подготови...</td>\n",
       "      <td>2020-12-16 13:15:03</td>\n",
       "    </tr>\n",
       "    <tr>\n",
       "      <th>9</th>\n",
       "      <td>🏠 Запустили бесплатный онлайн-курс «Дизайн инт...</td>\n",
       "      <td>2020-12-16 07:23:00</td>\n",
       "    </tr>\n",
       "  </tbody>\n",
       "</table>\n",
       "</div>"
      ],
      "text/plain": [
       "                                                text                date_\n",
       "0  Наш предновогодний digital-марафон продолжаетс...  2020-12-14 10:05:01\n",
       "1  Предсказать будущее невозможно, но можно его п...  2020-12-20 07:53:00\n",
       "2  Data Science митап ВТБ, конкурс IT-проектов и ...  2020-12-19 13:24:00\n",
       "3  Написать письмо коллеге, пройти собеседование ...  2020-12-19 08:10:00\n",
       "4  В эфире #пятничнаябеседка. Здесь мы обсуждаем,...  2020-12-18 14:22:00\n",
       "5  🔥 Запустили бесплатный курс «Как стать SEO‑спе...  2020-12-18 07:33:00\n",
       "6  Google Docs — это целый набор средств редактир...  2020-12-17 14:46:00\n",
       "7  Приглашение на работу в Кремниевую долину — зв...  2020-12-17 07:54:00\n",
       "8  У нас сегодня Нето-викторина 🤩\\n\\nМы подготови...  2020-12-16 13:15:03\n",
       "9  🏠 Запустили бесплатный онлайн-курс «Дизайн инт...  2020-12-16 07:23:00"
      ]
     },
     "execution_count": 65,
     "metadata": {},
     "output_type": "execute_result"
    }
   ],
   "source": [
    "def date_convert (par):\n",
    "    return datetime.utcfromtimestamp(par).strftime('%Y-%m-%d %H:%M:%S')\n",
    "    \n",
    "data['date_'] = data['date'].apply(date_convert)\n",
    "\n",
    "del data['date'] \n",
    "data\n"
   ]
  },
  {
   "cell_type": "code",
   "execution_count": null,
   "metadata": {},
   "outputs": [],
   "source": []
  }
 ],
 "metadata": {
  "kernelspec": {
   "display_name": "Python 3",
   "language": "python",
   "name": "python3"
  },
  "language_info": {
   "codemirror_mode": {
    "name": "ipython",
    "version": 3
   },
   "file_extension": ".py",
   "mimetype": "text/x-python",
   "name": "python",
   "nbconvert_exporter": "python",
   "pygments_lexer": "ipython3",
   "version": "3.8.3"
  }
 },
 "nbformat": 4,
 "nbformat_minor": 4
}
